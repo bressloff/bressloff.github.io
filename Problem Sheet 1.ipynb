{
 "cells": [
  {
   "cell_type": "markdown",
   "metadata": {},
   "source": [
    "## 1. \n",
    "Consider the non-dimensional harvesting model at constant effort\n",
    "$$\n",
    "{\\text{d} N \\over \\text{d} t} = f(N,E) =  rN\\left(1-\\frac{N}{K}\\right) - Y(N,E), \\mbox{ with } Y(N,E)=EN\n",
    "$$\n",
    "where $r,\\,K$ and $E$ are positive constants known as the reproduction rate, the carrying capacity and the harvesting effort respectively.  The function $Y(N,E)$ denotes the yield of a particular harvest.\n",
    "\n",
    "i) Calculate the two fixed points $N_{1}$ and $N_{2}$ of the system and determine their stability. \n",
    "\n",
    "ii) What happens to $f(N,E)$ when $E>r$? What is the implication for the population then?\n",
    "\n",
    "iii) By considering $\\text{d} Y/ \\text{d} E$, where $Y$ is evaluated at $N_2$, show that the maximum stationary yield at $N_{2}$ is obtained at $E=r/2$ and find the values of $N_{2}$ and $Y$ at this point. Is there any reason to increase $E$ beyond $r/2$?\n",
    "\n",
    "iv) We define the *recovery time*, $T_R = -1/f'(N_{2})$ to be the time taken for a small perturbation from the non-zero steady state $N_2$ to decrease by a factor of $e$ according to the linearised equations. It gives us a measure of how long the population will stay away from the steady state $N_{2}.$ Show that $T_R(N_2)=1/(r-E).$\n",
    "\n",
    "v) For fixed $r$ and $K$, as $N$ decreases what can we do to maintain a constant yield $Y(N,E)$? What implication does this have for the recovery time and hence the overall population $N$?"
   ]
  },
  {
   "cell_type": "markdown",
   "metadata": {},
   "source": [
    "## 2. \n",
    "Consider the non-linear predation model given by \n",
    "$$\n",
    "{\\text{d} N \\over \\text{d} t} = RN\\left(1-\\frac{N}{K}\\right) - P \\left(1-\\exp\\left[-\\frac{1}{\\varepsilon}\\frac{N^2}{A^2}\\right]\\right)\n",
    "$$\n",
    "where $R$, $K$, $P$ and $A$ are positive constants and $\\varepsilon$ is a dimensionless parameter such that $0<\\varepsilon<<1$.\n",
    "\n",
    "i) If the units of $N$ are larvae, what are the dimensions of $R,\\,K,\\,P,\\,A$? Hence, by an appropriate non-dimensionalisation show that the system can be re-written as\n",
    "$$\n",
    "{\\text{d} n \\over \\text{d} \\tau} = rn\\left(1-\\frac{n}{q}\\right) - \\left(1-\\exp\\left[-\\frac{n^2}{\\varepsilon}\\right]\\right),\n",
    "$$\n",
    "where $r,\\,q$ are positive parameters to be found. Rescale $n=\\sqrt\\varepsilon U$, $r=S/\\sqrt{\\varepsilon}$ and $q=Q\\sqrt{\\varepsilon}$ \n",
    "\n",
    "ii) Demonstrate that there can be three possible non-zero steady states if $r$ and $q$ lie in some domain given approximately by $SQ>4$.\n",
    "\n",
    "iii) Consider what happens for some chosen fixed $Q$ as $S$ varies.  Does this model exhibit hysteresis? Justify your answer using the code provided in the next cell to generate the relevant plots. "
   ]
  },
  {
   "cell_type": "code",
   "execution_count": null,
   "metadata": {},
   "outputs": [],
   "source": [
    "import matplotlib.pyplot as plt\n",
    "import numpy as np\n",
    "\n",
    "def question2(S,Q):\n",
    "    fig, ax = plt.subplots()\n",
    "\n",
    "    U = np.linspace(0.0, 6.0, num=100)\n",
    "    f1 = S*U*(1-U/Q)\n",
    "    f2 = (1-np.exp(-U**2))\n",
    "    \n",
    "    ax.plot(U, f1, label='f1'); \n",
    "    ax.plot(U,f2, label='f2');\n",
    "    ax.set_xlabel('U')\n",
    "    ax.legend();\n",
    "    ax.set_title(\"S = \"+str(S)+\", Q = \"+str(Q));"
   ]
  },
  {
   "cell_type": "code",
   "execution_count": null,
   "metadata": {},
   "outputs": [],
   "source": [
    "question2(S = 1/2,Q = 6)\n",
    "question2(S = 3/4,Q = 6)"
   ]
  },
  {
   "cell_type": "markdown",
   "metadata": {},
   "source": [
    "## 3. \n",
    "Write down the ODEs describing the dynamics of the chemical concentrations\n",
    "\n",
    "i) $S+E \\underset{k_{-1}}{\\stackrel{k_1}{\\rightleftharpoons}} C \\xrightarrow{k_2} E+P$\n",
    "\n",
    "ii) $\\alpha X \\xrightarrow[]{k_1} \\beta Y+ \\gamma Z$\n",
    "\n",
    "iii) $\\alpha A + \\beta B \\underset{k_{-1}}{\\stackrel{k_1}{\\rightleftharpoons}} \\gamma C+ \\delta D$\n"
   ]
  },
  {
   "cell_type": "markdown",
   "metadata": {},
   "source": [
    "## 4. \n",
    "Assuming that $a$, $b$ and $c$ are constants, write down the corresponding reactions for each of the following ODEs\n",
    "\n",
    "i) $$\\frac{\\text{d} x}{\\text{d} t} = a x^2 - b x$$\n",
    "\n",
    "ii) $$\\frac{\\text{d} x}{\\text{d} t} = -a x^2 + b x$$\n",
    "\n",
    "iii) $$\\frac{\\text{d} y}{\\text{d} t} = a - b y,\\, \\frac{\\text{d} x}{\\text{d} t} = b y - 2 x$$\n",
    "\n",
    "iv) $$\\frac{\\text{d} x}{\\text{d} t} = a - 2b x^2,\\, \\frac{\\text{d} y}{\\text{d} t} = b x^2 - c y$$\n",
    "\n",
    "v) $$\\frac{\\text{d} x}{\\text{d} t} = a - b x^2,\\, \\frac{\\text{d} y}{\\text{d} t} = b x^2 - c y$$\n"
   ]
  },
  {
   "cell_type": "markdown",
   "metadata": {},
   "source": [
    "## 5. \n",
    "<p> A biochemical switch: Zebra stripes and butterfly wing patterns are two of the most spectacular examples of biological pattern formation. Explaining the development of these patterns is one of the outstanding problems of biology.\n",
    "<p> As one ingredient in a model of pattern formation, consider a simple example of a biochemical switch, in which a gene $G$ is activated by a biochemical signal substance $S$. For example, the gene may normally be inactive but can be “switched on” to produce a pigment or other gene product when the concentration of $S$ exceeds a certain threshold. Let $g(t)$ denote the concentration of the gene product, and assume that the concentration $s_0$ of $S$ is fixed. The model is $$ \\frac{\\text{d} g}{\\text{d}t} = k_1s_0 - k_2g + \\frac{k_3g^2}{k_4^2+g^2} $$ where the $k$'s are positive constants. The production of $g$ is stimulated by $s_0$ at a rate $k_1$, and by an <i>autocatalytic</i> or positive feedback process (the nonlinear term). There is also a linear degradation of $g$ at a rate $k_2$. </p>\n",
    "\n",
    "i) Show that the system can be put in the dimensionless form $$ \\frac{\\text{d}x}{\\text{d}\\tau} = s-rx+\\frac{x^2}{1+x^2} $$ where $r>0$ and $s\\geq0$ are dimensionless groups.\n",
    "\n",
    "ii) Show that if $s = 0$, there are two positive fixed points $x^*$ if $r < r_c$, where $r_c$ is to be determined.\n",
    "\n",
    "iii) Assume that initially there is no gene product, i.e., $g (0) = 0$, and suppose $s$ is slowly increased from zero (the activating signal is turned on).  Explain graphically what happens to $g ( t ) $? What happens if $s$ then goes back to zero? Does the gene turn off again?\n",
    "\n",
    "iv) Find parametric equations \n",
    "\\begin{align}\n",
    "r(x) = \\frac{2x}{(1+x^2)^2}, s(x) = \\frac{x^2(1-x^2)}{(1 +x^2)^2}\n",
    "\\end{align}\n",
    "for the bifurcation curves in $( r, s )$ space, and classify the bifurcations that occur.\n",
    "\n",
    "v) Use the code in the next cell to plot of the stability diagram in $( r, s )$ space.  Indicate the any regions where bistability is possible. \n"
   ]
  },
  {
   "cell_type": "code",
   "execution_count": 1,
   "metadata": {},
   "outputs": [
    {
     "ename": "NameError",
     "evalue": "name 'plt' is not defined",
     "output_type": "error",
     "traceback": [
      "\u001b[0;31m---------------------------------------------------------------------------\u001b[0m",
      "\u001b[0;31mNameError\u001b[0m                                 Traceback (most recent call last)",
      "\u001b[0;32m<ipython-input-1-60ef714e997d>\u001b[0m in \u001b[0;36m<module>\u001b[0;34m\u001b[0m\n\u001b[0;32m----> 1\u001b[0;31m \u001b[0mfig\u001b[0m\u001b[0;34m,\u001b[0m \u001b[0max\u001b[0m \u001b[0;34m=\u001b[0m \u001b[0mplt\u001b[0m\u001b[0;34m.\u001b[0m\u001b[0msubplots\u001b[0m\u001b[0;34m(\u001b[0m\u001b[0;34m)\u001b[0m\u001b[0;34m\u001b[0m\u001b[0;34m\u001b[0m\u001b[0m\n\u001b[0m\u001b[1;32m      2\u001b[0m \u001b[0;34m\u001b[0m\u001b[0m\n\u001b[1;32m      3\u001b[0m \u001b[0mx\u001b[0m \u001b[0;34m=\u001b[0m \u001b[0mnp\u001b[0m\u001b[0;34m.\u001b[0m\u001b[0mlinspace\u001b[0m\u001b[0;34m(\u001b[0m\u001b[0;36m0.5\u001b[0m\u001b[0;34m,\u001b[0m \u001b[0;36m10.0\u001b[0m\u001b[0;34m,\u001b[0m \u001b[0mnum\u001b[0m\u001b[0;34m=\u001b[0m\u001b[0;36m100\u001b[0m\u001b[0;34m)\u001b[0m\u001b[0;34m\u001b[0m\u001b[0;34m\u001b[0m\u001b[0m\n\u001b[1;32m      4\u001b[0m \u001b[0mr\u001b[0m \u001b[0;34m=\u001b[0m \u001b[0;36m2\u001b[0m\u001b[0;34m*\u001b[0m\u001b[0mx\u001b[0m\u001b[0;34m/\u001b[0m\u001b[0;34m(\u001b[0m\u001b[0;36m1\u001b[0m\u001b[0;34m+\u001b[0m\u001b[0mx\u001b[0m\u001b[0;34m**\u001b[0m\u001b[0;36m2\u001b[0m\u001b[0;34m)\u001b[0m\u001b[0;34m**\u001b[0m\u001b[0;36m2\u001b[0m\u001b[0;34m\u001b[0m\u001b[0;34m\u001b[0m\u001b[0m\n\u001b[1;32m      5\u001b[0m \u001b[0ms\u001b[0m \u001b[0;34m=\u001b[0m \u001b[0mx\u001b[0m\u001b[0;34m**\u001b[0m\u001b[0;36m2\u001b[0m\u001b[0;34m*\u001b[0m\u001b[0;34m(\u001b[0m\u001b[0;36m1\u001b[0m\u001b[0;34m-\u001b[0m\u001b[0mx\u001b[0m\u001b[0;34m**\u001b[0m\u001b[0;36m2\u001b[0m\u001b[0;34m)\u001b[0m\u001b[0;34m/\u001b[0m\u001b[0;34m(\u001b[0m\u001b[0;36m1\u001b[0m\u001b[0;34m+\u001b[0m\u001b[0mx\u001b[0m\u001b[0;34m**\u001b[0m\u001b[0;36m2\u001b[0m\u001b[0;34m)\u001b[0m\u001b[0;34m**\u001b[0m\u001b[0;36m2\u001b[0m\u001b[0;34m\u001b[0m\u001b[0;34m\u001b[0m\u001b[0m\n",
      "\u001b[0;31mNameError\u001b[0m: name 'plt' is not defined"
     ]
    }
   ],
   "source": [
    "fig, ax = plt.subplots() \n",
    "\n",
    "x = np.linspace(0.5, 10.0, num=100)\n",
    "r = 2*x/(1+x**2)**2\n",
    "s = x**2*(x**2-1)/(1+x**2)**2\n",
    "\n",
    "ax.plot(r, s); \n",
    "ax.set_xlabel('r');\n",
    "ax.set_ylabel('s');\n",
    "ax.set_xlim([0,1]);\n",
    "ax.set_ylim([0,1]);"
   ]
  },
  {
   "cell_type": "markdown",
   "metadata": {},
   "source": [
    "## 6. \n",
    "<p>Model of an epidemic: In pioneering work in epidemiology, Kermack and McKendrick (1927) proposed the following simple model for the evolution of an epidemic. Suppose that the population can be divided into three classes:\n",
    "$x ( t ) =$ number of healthy people; $y ( t ) =$ number of sick people; $z ( t ) =$ number of dead people. Assume that the total population remains constant in size, except for deaths due to the epidemic. (That is, the epidemic evolves so rapidly that we can ignore the slower changes in the populations due to births, emigration, or\n",
    "deaths by other causes.)</p>\n",
    "\n",
    "<p> Then the model is \n",
    "    \n",
    "\\begin{align}\n",
    "\\frac{\\text{d} x}{\\text{d}t} &= -kxy \\\\ \n",
    "\\frac{\\text{d} y}{\\text{d}t} &= kxy - ly \\\\\n",
    "\\frac{\\text{d} z}{\\text{d}t} &= ly \n",
    "\\end{align}\n",
    "\n",
    "where $k$ and $l$ are positive constants. The equations are based on two assumptions: \n",
    "\n",
    "(i) Healthy people get sick at a rate proportional to the product of $x$ and $y$. This would be true if healthy\n",
    "    and sick people encounter each other at a rate proportional to their numbers, and if there were a constant\n",
    "    probability that each such encounter would lead to transmission of the disease.\n",
    "    \n",
    "(ii) Sick people die at a constant rate $l$.\n",
    "</p>\n",
    "\n",
    "<p> The goal of this exercise is to reduce the model, which is a <i>third-order system</i>, to a first-order system that can analyzed by our methods.</p>\n",
    "\n",
    "\n",
    "\n",
    "i) Show that $x + y + z = N$, where $N$ is constant.\n",
    "\n",
    "ii) Use the $\\dot{x}$ and $\\dot{z}$ equation to show that $x(t) = x_0\\exp(-kz(t) / l)$, where $x_0 = x (0)$.\n",
    "\n",
    "iii) Show that $z$ satisfies the first-order equation $\\text {d}z/\\text{d}t  = l[N - z - x_0 \\exp(-kz/l)]$.\n",
    "\n",
    "iv) Show that this equation can be nondimensionalized to $$ \\frac{\\text{d}u}{\\text{d}\\tau} = a-bu-e^{-u} $$ by an appropriate rescaling. \n",
    "\n",
    "v) Show that $a \\geq 1$ and $b > 0$.\n",
    "\n",
    "vi) Determine the number of fixed points $u^*$ and classify their stability.\n",
    "\n",
    "vii) Show that the maximum of $\\text{d}u/\\text{d} t$ occurs at the same time as the maximum of both $\\text{d}z/\\text{d}t $ and $y ( t )$. (This time is called the ***peak*** of the epidemic, denoted $t_{\\text{peak}}$. At this time, there are more sick people and a higher daily death rate than at any other time.)\n",
    "\n",
    "viii) Show that if $b < 1$, then $\\text{d}u/\\text{d}t$ is increasing at $t = 0$ and reaches its maximum at\n",
    "some time $t_{\\text{peak}}> 0$. Thus things get worse before they get better. (The term epidemic is reserved for this case.) Show that $\\text{d}u/\\text{d}t$ eventually decreases to $0$.\n",
    "\n",
    "ix) On the other hand, show that $t_{\\text{peak}} = 0$ if $b > 1$. (Hence no epidemic occurs if $b > 1$.)\n",
    "\n",
    "x) The condition $b = 1$ is the *threshold* condition for an epidemic to occur. Can you give a biological interpretation of this condition?\n"
   ]
  },
  {
   "cell_type": "code",
   "execution_count": null,
   "metadata": {},
   "outputs": [],
   "source": []
  }
 ],
 "metadata": {
  "kernelspec": {
   "display_name": "Python 3",
   "language": "python",
   "name": "python3"
  },
  "language_info": {
   "codemirror_mode": {
    "name": "ipython",
    "version": 3
   },
   "file_extension": ".py",
   "mimetype": "text/x-python",
   "name": "python",
   "nbconvert_exporter": "python",
   "pygments_lexer": "ipython3",
   "version": "3.8.8"
  },
  "latex_envs": {
   "LaTeX_envs_menu_present": true,
   "autoclose": false,
   "autocomplete": true,
   "bibliofile": "biblio.bib",
   "cite_by": "apalike",
   "current_citInitial": 1,
   "eqLabelWithNumbers": true,
   "eqNumInitial": 1,
   "hotkeys": {
    "equation": "Ctrl-E",
    "itemize": "Ctrl-I"
   },
   "labels_anchors": false,
   "latex_user_defs": false,
   "report_style_numbering": false,
   "user_envs_cfg": false
  },
  "toc": {
   "base_numbering": 1,
   "nav_menu": {},
   "number_sections": true,
   "sideBar": true,
   "skip_h1_title": false,
   "title_cell": "Table of Contents",
   "title_sidebar": "Contents",
   "toc_cell": false,
   "toc_position": {},
   "toc_section_display": true,
   "toc_window_display": false
  }
 },
 "nbformat": 4,
 "nbformat_minor": 4
}
