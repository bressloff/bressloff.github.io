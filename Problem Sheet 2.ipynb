{
 "cells": [
  {
   "cell_type": "markdown",
   "metadata": {},
   "source": [
    "# Problem Sheet 2"
   ]
  },
  {
   "cell_type": "markdown",
   "metadata": {},
   "source": [
    "## 1. Michaelis-Menten model\n",
    "\n",
    "In the notes, we studied the Michaelis-Menten model for enzyme reaction kinetics.  In doing so, we reduced the original system to the nondimensional system\n",
    "\n",
    "\\begin{align*}\n",
    "\\epsilon\\frac{dv}{d\\tau} &= u - (u + K)v,\\\\\n",
    "\\frac{du}{d\\tau} &= -u + (u + K - \\lambda)v \n",
    "\\end{align*}\n",
    "\n",
    "with initial conditions $u(0) = 1$ and $v(0) = 0$.  We then assumed $\\epsilon << 1$ and invoked the quasi-steady approximation which gave $v = u/(u + K)$ and \n",
    "\n",
    "\\begin{align*}\n",
    "u + K \\log u = 1 - \\lambda \\tau.\n",
    "\\end{align*}\n",
    "\n",
    "We observed, however, that the approximation does not allow us to impose the initial condition on $v$ and does not resolve what is happpening during the initial stages of the reaction.  In this problem, you'll use asymptotic matching of solutions to recover an approximation that is uniformly valid for all times.\n",
    "\n",
    "\\begin{enumerate}\n",
    "\\item Begin by rescaling time such that $\\tau = \\epsilon T$.  This introduces a fast time, $T$, that is $O(1)$ when $\\tau$ remains small, $O(\\epsilon)$. Show that the resulting system is \n",
    "\n",
    "\\begin{align*}\n",
    "\\frac{dV}{dT} &= U - (U + K)v,\\\\\n",
    "\\frac{dU}{dT} &= \\epsilon(-U + \\left(U + K - \\lambda)V\\right).\n",
    "\\end{align*}\n",
    "\n",
    "with initial conditions $U(0) = 1$ and $V(0) = 0$.  \n",
    "\n",
    "\\item Writing the solution as $U(T) = \\sum_{n=0}^\\infty \\epsilon^n U_n(T)$ and $V(T) = \\sum_{n=0}^\\infty \\epsilon^n V_n(T)$, show that \n",
    "\n",
    "\\begin{align*}\n",
    "U_0 &= 1 \\\\\n",
    "V_0 &= \\frac{1}{1 + K}\\left(1 - \\text{e}^{-(1 + K)T}\\right). \n",
    "\\end{align*}\n",
    "\n",
    "\\item Show that this solution matches that found in the notes, namely\n",
    "\n",
    "\\begin{align*}\n",
    "\\lim_{\\tau \\rightarrow 0} u &= \\lim_{T \\rightarrow \\infty} U_0 \\\\\n",
    "\\lim_{\\tau \\rightarrow 0} v &= \\lim_{T \\rightarrow \\infty} V_0.\n",
    "\\end{align*}\n",
    "\n",
    "\\item By considering\n",
    "\n",
    "\\begin{align*}\n",
    "u(\\tau) + U_0(\\tau/\\epsilon) - \\lim_{T \\rightarrow \\infty} U_0 \\\\\n",
    "v(\\tau) + V_0(\\tau/\\epsilon) - \\lim_{T \\rightarrow \\infty} V_0.\n",
    "\\end{align*}\n",
    "\n",
    "Obtain the uniformly valid approximations\n",
    "\n",
    "\\begin{align*}\n",
    "u + K \\log u &= 1 - \\lambda \\tau \\\\\n",
    "v &= \\frac{u}{u+K} - \\frac{1}{1+K}\\text{e}^{-(1 + K)T}.\n",
    "\\end{align*}\n",
    "\n",
    "\\item Using the code below generate and plot numerical solutions, comment on how well the analytical solutions approximate those generated numerically as $\\epsilon$ varies.\n",
    "\\end{enumerate}"
   ]
  },
  {
   "cell_type": "code",
   "execution_count": 4,
   "metadata": {},
   "outputs": [
    {
     "name": "stderr",
     "output_type": "stream",
     "text": [
      "<>:33: SyntaxWarning: invalid escape sequence '\\e'\n",
      "<>:33: SyntaxWarning: invalid escape sequence '\\e'\n",
      "/var/folders/wh/k0fxs53x1kz7thx9cdhf_9080000gp/T/ipykernel_7320/563653190.py:33: SyntaxWarning: invalid escape sequence '\\e'\n",
      "  plt.title('$\\epsilon = '+str(epsilon)+'$')\n"
     ]
    },
    {
     "data": {
      "image/png": "[encoded data removed]",
      "text/plain": [
       "<Figure size 640x480 with 1 Axes>"
      ]
     },
     "metadata": {},
     "output_type": "display_data"
    }
   ],
   "source": [
    "import matplotlib.pyplot as plt\n",
    "from scipy.integrate import odeint\n",
    "import numpy as np\n",
    "\n",
    "K = 1\n",
    "lmbda = 1\n",
    "\n",
    "def mich_ment(w, t, epsilon, K,lmbda): #w = [u,v] \n",
    "    u, v = w\n",
    "    \n",
    "    dudt = -u+(u+K-lmbda)*v\n",
    "    dvdt = (u-(u+K)*v)/epsilon\n",
    "    dwdt = [dudt, dvdt]\n",
    "    return dwdt\n",
    "\n",
    "def question1(epsilon):\n",
    "    w0 = [1,0]\n",
    "    t = np.linspace(0.0, 1.0, num=100)\n",
    "    \n",
    "    u = np.linspace(0.5, 1.0, num=100)\n",
    "    tau = 1.0 - u - K*np.log(u)\n",
    "    tau = tau/lmbda\n",
    "    T = tau/epsilon\n",
    "    v = u/(u + K) - np.exp(-(1 + K)*T)/(1 + K)\n",
    "    \n",
    "    w2 = odeint(mich_ment,w0,t,args=(epsilon,K,lmbda))\n",
    "    plt.plot(t,w2[:,0],'b--',label=r'$u$ numerical')\n",
    "    plt.plot(t,w2[:,1],'r--',label=r'$v$ numerical')\n",
    "    plt.plot(tau,u,'b-',label=r'$u$ asymptotic')\n",
    "    plt.plot(tau,v,'r-',label=r'$v$ asymptotic')\n",
    "    \n",
    "    plt.xlabel('t')\n",
    "    plt.title('$\\epsilon = '+str(epsilon)+'$')\n",
    "    plt.legend(loc='best')\n",
    "    plt.show()\n",
    "\n",
    "question1(0.01)\n"
   ]
  },
  {
   "cell_type": "markdown",
   "metadata": {},
   "source": [
    "## 2. Model of Haemoglobin.\n",
    "\n",
    "Haemoglobin, $Hb$, absorbs oxygen, $O_2$, to form an intermediate complex, $HbO_2$.  The complex then reacts with tissue, $T$, to form a product, $P$, releasing the haemoglobin.  The reactions are written \n",
    "\n",
    "\\begin{align*}\n",
    "Hb + O_2 &\\underset{k}{\\stackrel{k}{\\rightleftharpoons}} HbO_2  \\\\\n",
    "HbO_2 + T &\\xrightarrow{k} Hb + P \n",
    "\\end{align*}\n",
    "\n",
    "where the reaction rates are all equal and scaled so that $k = 1$.  \n",
    "\n",
    "The concentrations of $Hb$, $O_2$, $HbO_2$ and $P$ are $e, s, c,$ and $p$, respectively, while the tissue is present in such quantities that its concentration is $1$ for all time. The initial concentrations of $Hb$, $O_2$, $HbO_2$ and $P$ are respectively $e_0, s_0, 0$ and $0$."
   ]
  },
  {
   "cell_type": "markdown",
   "metadata": {},
   "source": [
    "1. Use the law of mass action to derive a system of ODE’s describing this reaction. Show that\n",
    "$e(t) + c(t)$ is constant and equal to $e_0$. Use this to reduce the system to a system of two ODE’s\n",
    "for the equations for $s(t$) and the complex, $c(t) = e_0v(t)$ in the form \n",
    "\n",
    "\\begin{align*}\n",
    "\\frac{\\text{d}s}{\\text{d}t} = e_0(v − s(1 − v)), \\\\\n",
    "\\frac{\\text{d}v}{\\text{d}t} = s(1 − v) − 2v.\n",
    "\\end{align*}\n",
    "\n",
    "2. Explain carefully the Michaelis-Menten quasi-steady approximation, and show that it implies that\n",
    "$s(t)$ is given implicitly by \n",
    "\n",
    "\\begin{align*}\n",
    "s + 2 \\log s = s_0 + 2 \\log s_0 − e_0t .\n",
    "\\end{align*}\n",
    "\n",
    "3. educe that for large times $s \\approx s_0 \\exp\\big[ \\frac{1}{2}(s_0 − e_0t)\\big].$\n",
    "4. Describe how $v$ changes in the very early stages of the reaction. *Hint: Use the fact that initially, $s = s_0$*\n",
    "\\end{enumerate}"
   ]
  },
  {
   "cell_type": "markdown",
   "metadata": {},
   "source": [
    "## 3. Consider the following symbiotic system \n",
    "\n",
    "\\begin{align*}\n",
    "\\frac{\\text{d}N_1}{\\text{d}T} &= r_1N_1 \\bigg(1 - \\frac{N_1}{K_1} + b_{12}\\frac{N_2}{K_1}\\bigg), \\\\\n",
    "\\frac{\\text{d}N_2}{\\text{d}T} &= r_2N_2 \\bigg(1 - \\frac{N_2}{K_2} + b_{21}\\frac{N_1}{K_2}\\bigg),\n",
    "\\end{align*}\n",
    "\n",
    "where $N_i$ denote the population sizes. The parameters $r_i, K_i, b_{ij}$ are positive constants."
   ]
  },
  {
   "cell_type": "markdown",
   "metadata": {},
   "source": [
    "\\begin{enumerate}\n",
    "\n",
    "\\item By introducing a suitable non-dimensionalisation show that the system reduces to\n",
    "\n",
    "\\begin{align*}\n",
    "\\frac{\\text{d}u_1}{\\text{d}t} &= u_1 (1-u_1 + \\alpha_{12}u_2) \\equiv f(u_1, u_2) \\\\\n",
    "\\frac{\\text{d}u_2}{\\text{d}t} &= \\rho u_2 (1-u_2+\\alpha_{21}u_1) \\equiv g(u_1,u_2)\n",
    "\\end{align*}\n",
    "\n",
    "where $\\rho = r_2/r_1,\\, \\alpha_{12} = b_{12}K_2/K_1,\\, \\alpha_{21}=b_{21}K_1/K_2$.\n",
    "\n",
    "\\item Find all four steady states and show that three of them are always unstable.\n",
    "\\item Show that unbounded growth can occur when $\\alpha_{12}\\alpha_{21} > 1$ and a stable mutualistic fixed point\n",
    "occurs when $\\alpha_{12}\\alpha_{21} < 1$.\n",
    "\\end{enumerate}"
   ]
  },
  {
   "cell_type": "markdown",
   "metadata": {},
   "source": [
    "## 4. Consider the general model of the predator prey system\n",
    "\n",
    "\\begin{align*}\n",
    "\\frac{\\text{d}N}{\\text{d}t} &= \\rho N\\bigg( 1-\\frac{N}{K} \\bigg) - \\gamma P f(N), \\\\\n",
    "\\frac{\\text{d}P}{\\text{d}t} &= P(\\sigma f(N) - \\eta)\n",
    "\\end{align*}\n",
    "\n",
    "where $N(t)$ are the number of prey and $P(t)$ the number of predators, which we assume to vary\n",
    "continuously in time. The parameters $K, \\rho, \\gamma, \\sigma, \\eta$ are positive constants. Let\n",
    "\n",
    "\\begin{align*}\n",
    "f(N) = \\frac{N}{N+D}.\n",
    "\\end{align*}"
   ]
  },
  {
   "cell_type": "markdown",
   "metadata": {},
   "source": [
    "1. What assumptions are made on the per-predator rate of predation, $\\gamma f(N)$, when choosing $f(N)$\n",
    "as above? Hint: Consider the behaviour of $\\gamma f(N)$ for large and small values of $N$.\n",
    "\n",
    "2. Show that non-dimensionalisation of the form $\\tau= \\rho t$, $u = N/K$, $v = P \\gamma/(\\rho K)$ produces the\n",
    "system\n",
    "\n",
    "\\begin{align}\n",
    "\\frac{\\text{d}u}{\\text{d}\\tau} &= u(1-u) - \\frac{uv}{u+\\delta} \\nonumber \\\\\n",
    "\\frac{\\text{d}v}{\\text{d}\\tau} &= v \\bigg( \\lambda \\frac{u}{u+\\delta} - \\mu \\bigg) \n",
    "\\label{eq:predprey}\n",
    "\\end{align}\n",
    "\n",
    "and state the values of the positive parameters $\\lambda, \\delta, \\mu$.\n",
    "\n",
    "\n",
    "3. Assuming that $u \\geq 0$ and $v \\geq 0$, show that $(u, v) = (0, 0)$ and $(u, v) = (1, 0)$ are always steady\n",
    "states of \\eqref{eq:predprey}. Show also that if $\\lambda > \\mu$ and $\\lambda > \\mu(1 + \\delta)$ then there is an additional steady state\n",
    "\n",
    "\\begin{align*}\n",
    "(u^*, v^*) = \\bigg( \\frac{\\mu \\delta}{\\lambda - \\mu} \\,, \\frac{\\lambda \\delta}{(\\lambda - \\mu)^2} (\\lambda - \\mu(1+\\delta)) \\bigg).\n",
    "\\end{align*}\n",
    "\n",
    "\n",
    "4. Show that if $(u^∗, v^∗)$ is a steady state then the other two fixed points are unstable.\n",
    "\n",
    "\n",
    "5. Show that at $(u^∗, v^∗)$, the Jacobian matrix of the system is\n",
    "\n",
    "\\begin{align*}\n",
    "J = \\begin{pmatrix}\n",
    "1 - 2u^* - \\delta \\frac{(1-u^*)}{u^*+\\delta} & \\frac{-u^*}{u^* + \\delta}\\\\\n",
    "\\delta \\lambda \\frac{(1-u^*)}{u^*+\\delta} & 0\n",
    "\\end{pmatrix}\n",
    "\\end{align*}\n",
    "\n",
    "and that $(u^∗, v^∗)$ is stable if $(1 + \\delta)\\mu > \\lambda(1−\\delta)$. \n",
    "\n",
    "Hint: When calculating the Jacobian you may find it useful to recall the equation satisfied by $u^∗$ and also write $v^∗$ in terms of $u^∗$."
   ]
  },
  {
   "cell_type": "markdown",
   "metadata": {},
   "source": [
    "## 5. Consider the criss-cross venereal infection model for a heterosexual population \n",
    "\n",
    "\\begin{align*}\n",
    "\\frac{dS}{dt} &= -r SI', \\\\\n",
    "\\frac{dI}{dt} &= rSI'-aI, \\\\\n",
    "\\frac{dR}{dt} &= aI, \\\\\n",
    "\\frac{dS'}{dt} &= -r'S'I,\\\\\n",
    "\\frac{dI'}{dt} &= r'S'I - a'I',\\\\\n",
    "\\frac{dR'}{dt} &= a'I',\n",
    "\\end{align*}\n",
    "\n",
    "where $S$, $I$ and $R$ are, respectively, the susceptibles, infectives and the removed class for the male population, while $S'$, $I'$ and $R'$ are, respectively, the susceptibles, infectives and the removed class for the female population. All parameters are positive constants and the initial values for $S, I, R, S', I',$ and $R'$ are $S_0, I_0, 0, S'_0,I'_0,$ and $0$, respectively."
   ]
  },
  {
   "cell_type": "markdown",
   "metadata": {},
   "source": [
    "1. Show that the female and male populations are constant and hence show that $S(t) = S_0 \\exp [-r R' / a']$\n",
    "2. Deduce that $S(\\infty)>0$ and $I(\\infty) = 0$ with similar results for $S'$ and $I'$. \n",
    "3. Show that the threshold condition for an epidemic ($dI/dt > 0, dI'/dt > 0$ at $t = 0$) to occur is at least one of\n",
    "\n",
    "\\begin{align*}\n",
    "\\frac{S_0 I'_0}{I_0} &> \\frac{a}{r} \\qquad\n",
    "\\frac{S'_0 I_0}{I'_0} > \\frac{a'}{r'} \n",
    "\\end{align*}"
   ]
  },
  {
   "cell_type": "code",
   "execution_count": null,
   "metadata": {},
   "outputs": [],
   "source": []
  }
 ],
 "metadata": {
  "kernelspec": {
   "display_name": "Python 3 (ipykernel)",
   "language": "python",
   "name": "python3"
  },
  "language_info": {
   "codemirror_mode": {
    "name": "ipython",
    "version": 3
   },
   "file_extension": ".py",
   "mimetype": "text/x-python",
   "name": "python",
   "nbconvert_exporter": "python",
   "pygments_lexer": "ipython3",
   "version": "3.12.5"
  },
  "latex_envs": {
   "LaTeX_envs_menu_present": true,
   "autoclose": false,
   "autocomplete": true,
   "bibliofile": "biblio.bib",
   "cite_by": "apalike",
   "current_citInitial": 1,
   "eqLabelWithNumbers": true,
   "eqNumInitial": 1,
   "hotkeys": {
    "equation": "Ctrl-E",
    "itemize": "Ctrl-I"
   },
   "labels_anchors": false,
   "latex_user_defs": false,
   "report_style_numbering": false,
   "user_envs_cfg": false
  },
  "toc": {
   "base_numbering": 1,
   "nav_menu": {},
   "number_sections": true,
   "sideBar": true,
   "skip_h1_title": false,
   "title_cell": "Table of Contents",
   "title_sidebar": "Contents",
   "toc_cell": false,
   "toc_position": {},
   "toc_section_display": true,
   "toc_window_display": false
  }
 },
 "nbformat": 4,
 "nbformat_minor": 4
}
