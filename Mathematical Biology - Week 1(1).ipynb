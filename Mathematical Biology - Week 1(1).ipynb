{
 "cells": [
  {
   "cell_type": "markdown",
   "metadata": {},
   "source": [
    "# Mathematical Biology - Week 1"
   ]
  },
  {
   "cell_type": "markdown",
   "metadata": {},
   "source": [
    "## Introduction\n",
    "\n",
    "Mathematical biology is exactly as it sounds -- it entails the use of mathematics to describe biological phenomena in order to better understand biological systems, as well as predict their behaviour.  It is an incredibly diverse field aimed at utilising the complete mathematical toolbox to ascertain insight into many areas of biology.\n",
    "\n",
    "The aim of this course is to provide a foundation in mathematical biology through the mathematical models commonly used to describe biological processes.  The course will rely primarily on tools from applied dynamical systems, applied PDEs, asymptotic analysis, and stochastic processes.  The course will be broadly organised around mathematical topics.  After a discussion of the background mathematical theory for each topic, the models of biological processes that fit under the topic areas will the introduced and analysed.  \n",
    "\n",
    "We will begin with the simplest models that are one-dimensional systems, or first-order ODEs, which can describe biochemical reaction dynamics, population dynamics and epidemiological phenomena.  We will see that these models are the building blocks from which the more complex models are constructed.  The increasing complexity introduces the need for additional mathematical tools.  For example, models of chemical reaction networks are obtained by introducing interaction terms that couple two or more first-order ODEs.  This results in a multi-dimensional system, or system of ODEs.  The incorporation of spatial dynamics into population models changes the original ODE to a PDE.  Finally, the introduction of variability requires formulating a stochastic process whose average dynamics will sometimes coincide with those given by the ODE model.\n",
    "\n",
    "### Organisation and delivery\n",
    "\n",
    "The content of the module is divided into 5 parts\n",
    "\n",
    "1. One-dimensional systems \n",
    "2. Multi-dimensional systems I: Fixed points and Stability\n",
    "3. Multi-dimensional systems II: Bifurcations and Oscillations\n",
    "4. Spatial dynamics\n",
    "5. Stochastic processes\n",
    "\n",
    "and each section on average should take around 2 weeks to complete.  There will be one set of problems for each section.  The lecture notes and problem sets will be distributed in the form of Jupyter notebooks, though PDF versions will also be provided.  The use of Jupyter notebooks is to allow you to generate plots and visualisations of the solutions to the models by running short segments of code that are embedded within the notebooks.  This will complement the analytical approaches that we will discuss and lead to a better understanding and interpretation of the results.  \n",
    "\n",
    "\n",
    "Office hours will be held in person in my office, 6M44 Huxley.\n",
    "\n",
    "\n",
    "### Books\n",
    "\n",
    "The lecture notes were assembled using several sources.  These include the 'core' books listed on Legato:\n",
    "1. *Mathematical Biology I: An Introduction* by JD Murray\n",
    "2. *Mathematical Biology II: Spatial Models and Biomedical Applications* by JD Murray\n",
    "3. *Nonlinear Dynamics and Chaos* by S Strogatz\n",
    "4. *An introduction to Partial Differential Equations* by Y. Pinchover and J. Rubinstein\n",
    "5. *Stochastic Processes in cell Biology* by P. Bressloff\n",
    "\n",
    "While the notes are intended to be comprehensive, I encourage you to crack open these books and read what they have to say about the material that you are learning.  The texts could provide you with different perspective on the material and give you a different angle from which to understand it.  This is always useful!"
   ]
  },
  {
   "cell_type": "markdown",
   "metadata": {},
   "source": [
    "## One-dimensional or first-order systems"
   ]
  },
  {
   "cell_type": "markdown",
   "metadata": {},
   "source": [
    "In the first part of this module, we will discuss biological systems that can be modelled as a one-dimensional or first-order system which is an ODE of the form\n",
    "\n",
    "\n",
    "\n",
    " \\begin{align}\n",
    "\\frac{dx}{dt} &= f(x), \\quad\n",
    "x(0) = x_0, \n",
    "\\end{align}\n",
    "\n",
    "where $x(t)$ is a real-valued function of time, $t$, and $f(x)$ is a sufficiently smooth real-valued function of $x$.  These notes largely summarise Chapter 2 of Strogatz.\n"
   ]
  },
  {
   "cell_type": "markdown",
   "metadata": {},
   "source": [
    "### Existence and Uniqueness\n",
    "\n",
    "In constructing a model, it is often useful to know whether it is well-posed and you can be guaranteed the existence of a unique solution.  As it turns out, it can be provided $f(x)$ is sufficiently smooth.\n",
    "\n",
    "**Existence and Uniqueness Theorem:** Consider the initial value problem given by (1). Suppose that $f(x)$ and $f'(x)$ are continuous on an open interval ${\\mathbb R}$ of the $x$-axis, and suppose that $x_0$ is a point in ${\\mathbb R}$.  Then the initial value problem has a solution $x(t)$ on some time interval $(-\\tau, \\tau)$ about $t = 0$, and the solution is unique.\n",
    "\n",
    "The one-dimensional system \n",
    "    \\begin{align*}\n",
    "\\frac{dx}{dt} &= x^{1/3}, \\quad\n",
    "x(0) = 0, \n",
    "\\end{align*}\n",
    "    is not unique as $f'(x)$ is not defined at $x = 0$. It can be shown that both $x = 0$ and $x = (2t/3)^{3/2}$ are solutions.\n",
    "    \n",
    "An important aspect of this theorem is the fact that it only applies over the interval $(-\\tau, \\tau)$ and not necessarily for all time.  For example, the initial value problem  \n",
    "    \\begin{align*}\n",
    "\\frac{dx}{dt} &= 1 + x^2, \\quad\n",
    "x(0) = 0, \n",
    "\\end{align*}\n",
    "has solution $x(t) = \\tan t$, and thus the solution only exists for $-\\pi/2 < t < \\pi/2$."
   ]
  },
  {
   "cell_type": "markdown",
   "metadata": {},
   "source": [
    "### Fixed points\n",
    "\n",
    "As will often be the case for nonlinear systems, we will not be able to find analytical solutions to the equations and we will have to resort to other means to analyse their behaviour.  One approach is to identify particular values of $x$ and ascertain whether the solution will move toward these values as $t \\rightarrow \\infty$, or whether it will move away from them, even if the initial value, $x_0$, is arbitrarily close. \n",
    "\n",
    "**Fixed points** or **equilibria** are the values of $x$ for which $dx/dt = 0$, or, given (1), the values of $x$ for which $f(x) = 0$.  Fixed points can also be referred to as steady states.  Thus, if the initial condition, $x_0$, is a fixed point, the solution is $x(t) = x_0$.\n",
    "\n",
    "For a given function $f(x)$, the fixed points can be determined grphically by plotting $f(x)$ and determining where it intersects the $x$-axis. This is illustrated below for the example\n",
    "\\begin{equation}\n",
    "\\frac{dx}{dt} = rx + x^3.\n",
    "\\end{equation}\n",
    "\n",
    "<img src=\"fxplot.png\" style=\"height: 300px;\">\n",
    "\n",
    "On the $x$-axis, we have drawn arrows to indicate the direction in which a point will move based on the sign of $f(x)$ at that point.  In this scenario, we refer to these points as **phase points**, their motion as a **flow**, their path as **trajectories**, and finally the $x$-axis and the arrows as the **phase portrait**. \n",
    "\n",
    "There are two fixed points $x_U$ and $x_S$, with $f(x) < 0$ for $x < x_U$ and $f(x) > 0$ for $x_U < x < x_S$. Therefore according to equation (1), if the initial condition satisfies $x_0 < x_U$ it will move to the left (as $f(x) < 0$), while if $x_U < x_0 < x_S$ it will move to the right (as $f(x) > 0$).  In both cases, the solution will move away from $x_U$.  As a result, $x_U$ is referred to as an **unstable** fixed point.  As you might have guessed, we have the opposite situation for $x_S$ where initial conditions nearby will stay in the vicinity of $x_S$ or move towards $x_S$.  In this case, we have a **stable** fixed point.  If the trajectories approach a stable fixed point as $t \\rightarrow \\infty$, we call this fixed point **asymptotically stable**.  We can also have **half-stable** fixed points as in the case of $x = 0$ for $f(x) = x^2$. \n",
    "\n",
    "The figure also suggests monotonic behaviour.  Namely, if the solution moves to the right at any point in time, it will continue to do so.  This inability to oscillate is a consequence of the uniqueness of the solution.  If it were to back track along the line, it would automatically mean that $f(x)$ is multivalued, thereby violating our requirements on continuity.  \n",
    "\n",
    "### Linear stability analysis\n",
    "\n",
    "We have just seen graphically how to identify the stability of fixed points, but there is also a more formal approach called **linear stability analysis** and it is carried out as follows:\n",
    "\n",
    "Suppose the point $x^*$ is a fixed point.  To evaluate its linear stability, we linearise $f(x)$ about $x^*$ via a Taylor expansion\n",
    "\n",
    "\\begin{align*}\n",
    "f(x) = f(x^*) + (x - x^*)f'(x^*) + \\textrm{h.o.t.} \n",
    "\\end{align*}\n",
    "\n",
    "We first recognise that $f(x^*) = 0$ by virtue of the fact that $x^*$ is a fixed point.  Defining $\\eta = x - x^*$ as the perturbation from $x^*$, the differential equation $\\textrm{d}x/\\textrm{d}t = f(x)$ linearised about the fixed point $x^*$ is then\n",
    "\n",
    "\\begin{align}\n",
    "\\frac{d \\eta}{dt} = f'(x^*)\\eta. \n",
    "\\end{align}\n",
    "\n",
    "Thus, we see that:\n",
    "\n",
    "1. $f'(x^*) > 0$, then the perturbation $\\eta$ will grow exponentially with time.  This means that $x^*$ is an unstable fixed point.\n",
    "\n",
    "2. $f'(x^*) < 0$, then the perturbation $\\eta$ will decay exponentially with time.  In this case, $x^*$ is a stable fixed point.\n",
    "\n",
    "\n",
    "For the case where $f'(x^*) = 0$, the stability cannot be determined without examining the higher-order terms which are themselves nonlinear.  For example, consider $f(x) = x^3 + c$.  Linear stability can be used if $c = 1$, but not if $c =0$. Thus, linear stability analysis is not all encompassing but usually a useful tool nonetheless. "
   ]
  },
  {
   "cell_type": "markdown",
   "metadata": {},
   "source": [
    "## Bifurcations \n",
    "\n",
    "In the previous section, we discussed how to identify fixed points, $x^*$, by solving the equation $f(x) = 0$ and assessing their linear stability by evaluating $f'(x^*)$.\n",
    "\n",
    "What we'd like to examine now is how these fixed points and their stabilities change as we vary parameters that appear in the function $f(x)$.  In the context of mathematical biology, these parameters might be the rate at which a chemical reaction occurs, or perhaps the value at which a population will saturate.  We'll look at examples of both in the near future.  When changes in the parameter values lead to qualitative changes in the fixed points and their stability, e.g. a change in the parameter resulted in the number of fixed points going from 1 to 3, we say a **bifurcation** has occurred.  The parameter values at which we see the bifurcation is called the **bifurcation point**.  In one-dimensional systems, there are three types of bifurcation that can occur, each of which is described using their *normal forms*, the form which describes the bifurcations of a given type near the bifurcation point.\n",
    "\n",
    "### Saddle-node bifurcation\n",
    "\n",
    "With a saddle-node bifurcation, a pair of fixed points (one stable and the other unstable) are either created or destroyed as the control parameter is varied.  The normal forms for this type of bifurcation are\n",
    "\\begin{equation}\n",
    "\\frac{dx}{dt} = r + x^2, \n",
    "%\\label{eq:snb1}\n",
    "\\end{equation}\n",
    "and \n",
    "\\begin{align}\n",
    "\\frac{dx}{dt} = r - x^2, \n",
    "%\\label{eq:snb2}\n",
    "\\end{align}\n",
    "where $r$ is the control parameter.  As you can see, varying $r$ can raise or lower the parabola and hence control whether or not it crosses the $x$-axis.  \n",
    "\n",
    "In equation (4), we only obtain real solutions to $x^2 = -r$ when $r \\leq 0$. Thus there are no fixed points when $r > 0$.  The bifurcation occurs at the bifurcation point $r = 0$ when there is a single fixed point that is half-stable.  For $r<0$, there are 2 fixed points at $x^* = \\pm \\sqrt{|r|}$ with $-\\sqrt{|r|}$ being stable and $\\sqrt{r}$ being unstable.  \n",
    "\n",
    "The bifurcation and resulting fixed points for different values of $r$ and $x$ can be compiled in the form of a bifurcation diagram.  For the saddle-node bifurcation described here, the bifurcation diagram is\n",
    "\n",
    "<img src=\"saddlenode.png\" style=\"height: 500px;\">\n",
    "\n",
    "For equation (5), the opposite occurs as fixed points appear out of nowhere as $r$ increases from $r < 0$.  Try it as an exercise.\n",
    "\n",
    "### Transcritical bifurcation\n",
    "\n",
    "Up next is the transcritical bifurcation whose normal form is \n",
    "\n",
    "\\begin{align}\n",
    "\\frac{dx}{dt} = rx - x^2. \n",
    "%\\label{eq:tcb1}\n",
    "\\end{align}\n",
    "\n",
    "For the transcritical bifurcation, one fixed point moves along the $x$-axis and exchanges stability with the other at $x^* = 0$ when they meet.  Specifically, by considering $rx - x^2 = 0$, we find that the fixed points are $x^* = 0$ and $x^* = r$.  We also have that $f'(r) = -r$ and $f'(0) = r$.  Thus, when $r < 0$, $x^* = r$ is unstable and $x^* = 0$ is stable.  The bifurcation occurs when $r = 0$ and the stability of the two fixed points changes as $x^* = 0$ is unstable and $x^* = r$ is stable when $r>0$.  This is depicted below in the bifurcation diagram.\n",
    "\n",
    "<img src=\"transcritical.png\" style=\"height: 500px;\">\n",
    "\n",
    "\n",
    "\n",
    "### Pitchfork bifurcation\n",
    "\n",
    "The last type of bifurcation is called the pitchfork bifurcation and it comes in two flavours -- supercritical and subcritical.  The normal form of the supercritical pitchfork is the differential equation\n",
    "\n",
    "\\begin{align}\n",
    "\\frac{dx}{dt} = rx - x^3.\n",
    "%\\label{eq:suppb}\n",
    "\\end{align}\n",
    "\n",
    "Here, we see that for $r < 0$, $rx - x^3 = 0$ admits just a single real solution, $x^* = 0$.  The bifurcation occurs at the bifurcation point $r = 0$, and when $r > 0$, we have the fixed points $x^* = 0, \\pm\\sqrt{r}$.  By considering $f'(x) = r - 3x^2$, we see that when $r > 0$, $f'(0) > 0$ and $f'(\\pm\\sqrt{r}) < 0$.  Thus, $x^* = 0$ is unstable, while $x^* = \\pm\\sqrt{r}$ is stable.  Again, the supercritical pitchfork bifurcation can be described through a bifurcation diagram (see left-hand figure).\n",
    "\n",
    "<img src=\"pitchfork.png\" style=\"height: 600px;\">\n",
    "\n",
    "The symmetry of the bifurcation diagram is a consequence of the fact that equation (10) is invariant under the transformation $x \\rightarrow -x$ i.e. it does not change the form of the equation. Hence, if x(t) is a solution then so is $-x(t)$\n",
    "\n",
    "The other flavour is the subcritical pitchfork bifurcation (see right-hand figure) whose normal form is\n",
    "\\begin{align}\n",
    "\\frac{dx}{dt} = rx + x^3.\n",
    "%\\label{eq:subpb}\n",
    "\\end{align}\n",
    "Here $x^*=0$ is the only fixed point when $r > 0$ and it is unstable! As $r$ decrease through the bifurcation point at $r = 0$, we have the familiar three fixed points $x^* = 0, \\pm\\sqrt{r}$, but now their stabilities are switched -- $x^* = 0$ is stable, while $x^* = \\pm\\sqrt{r}$ are unstable.\n",
    "\n",
    "\n",
    " It is important to remember that the normal forms are meant only to give a picture of what occurs *near* the bifurcation point.  For a general $f(x)$ which exhibits a subcritical pitchfork bifurcation (or other bifurcations for that matter!), far away from the bifurcation point, additional, higher-order terms in $f(x)$ may become important and reveal other fixed points that may be stabilising.  By finding fixed points, assessing their stability, and analysing their bifurcations, we can reveal how interesting trajectories can emerge by allowing parameters to vary."
   ]
  },
  {
   "cell_type": "markdown",
   "metadata": {},
   "source": [
    "### A final comment: numerical methods and asymptotic solutions\n",
    "\n",
    "Indispensible tools, especially for nonlinear systems, are numerical methods for generating approximate solutions to initial value problems.  Often, they are the most direct way to generate solutions to these problems.  These methods, also referred to as time integration schemes, take an initial condition and march the solution forward in time using discrete increments, $\\Delta t$.  Generally speaking, there are two types -- multi-stage schemes (e.g. Runge-Kutta) and multi-step schemes (e.g. Adams methods).  Methods are characterised by their *order of accuracy*, the power of $\\Delta t$ for which the numerical solution converges to the true solution, and their *stability* which, together with accuracy ensure convergence.  We will not go into the details of these methods, but the Jupyter notebooks associated with the course will rely on these methods when generating numerical solutions, so we mention them here.\n",
    "\n",
    "The primary disadvantage of numerical schemes is that they can generate a solution only for a single set of parameters at a time.  Often, especially for biological problems, one would like to explore the dependence of the solution on the parameters that appear in the model, but sweeping the parameter space with a numerical method can be time consuming.  This is one reason that numerical methods cannot be relied on exclusively and analytical techniques, such as linear stability analysis, remain important.  Another class of analytical methods are asymptotic analyses aimed at obtaining approximate solutions in the limit where parameters appearing in the equation are vanishingly small.  By considering an expansion of the solution in a series involving the small parameter, the model equations often simplify.  We'll use asymptotic techniques below to reduce a two-dimensional system to two, one-dimensional systems.\n"
   ]
  },
  {
   "cell_type": "markdown",
   "metadata": {},
   "source": [
    "Let's look more closely now at what has changed from our picture before where we had exponential growth.  Recalling that $r$ is a positive constant, we see that $x \\rightarrow K$ as $t \\rightarrow \\infty$.  Now we see why $K$ is called the carrying capacity.  It refers to the population size that can be maintained by the available resources.  This is illustrated through by following problem:  \n",
    "\n",
    "*Suppose that the growth rate of a population is $r = aC$, where $C(t)$ is the concentration of nutrients.  Suppose that at $C(0) = C_0$ and that $dC/dt = -(1/b)dx/dt$, i.e. consumption of a unit of nutrient produces $b$ units of population size.  Show that $x$ obeys the logistic equation.  What are the expressions for $r$ and $K$?*\n",
    "\n",
    "At this point, its worth revisiting what we mean by 'organism.'  As you might imagine, such a simple equation would capture what happens with very simple organisms.  These include micro-organisms that reproduce by dividing and rely on nutrients that are more or less distributed uniformly throughout the population.  The population size of other, more complex organisms, such as plants, animals and people, will likely depend on many more factors such as competition, predation and mutualism, and a more refined breakdown of the population, for example the age structure.  Nevertheless, we will see that logistic growth is an important ingredient in many models arising in mathematical biology.\n",
    "\n",
    "**Fixed points** \n",
    "\n",
    "It's worth noting that despite being a nonlinear equation, we were able to obtain a solution to the logistic equation via separation of variables.  Despite having the solution, it's worth pretending that we don't explore what happens utilising some of the analytical techniques for nonlinear one-dimensional systems outlined above.  \n",
    "\n",
    "Let's start off by finding the fixed points of equation (7).  Considering $f(x) = rx(1 - x/K) = 0$, one finds fixed points $x^* = 0$ and $x^* = K$.  Given the quadratic nature of $f(x)$ and since $r > 0$, we see that $f > 0$ for $0 < x < K$ and $f < 0$ for $x > K$.  Thus, $x^* = 0$ is unstable, while $x^* = K$ is stable.  This can be shown graphically using the code below"
   ]
  },
  {
   "cell_type": "code",
   "execution_count": 4,
   "metadata": {},
   "outputs": [
    {
     "data": {
      "image/png": "[encoded data removed]",
      "text/plain": [
       "<Figure size 640x480 with 1 Axes>"
      ]
     },
     "metadata": {},
     "output_type": "display_data"
    }
   ],
   "source": [
    "import numpy as np\n",
    "import matplotlib.pyplot as plt\n",
    "%matplotlib inline \n",
    "\n",
    "r = 1.0\n",
    "K = 7.0\n",
    "x = np.linspace(0,10,1000)\n",
    "f = r*x*(1 - x/K)\n",
    "\n",
    "plt.rcParams.update({'font.size': 14})  # increase the font size\n",
    "plt.xlabel(\"x\")\n",
    "plt.ylabel(\"f\")\n",
    "plt.plot(x,f);\n",
    "plt.plot(x,0*f,'--')\n",
    "plt.plot(K,0,'ko');\n",
    "plt.scatter(0,0, edgecolor=\"black\", color=\"none\");"
   ]
  }
 ],
 "metadata": {
  "author": "",
  "kernelspec": {
   "display_name": "Python 3 (ipykernel)",
   "language": "python",
   "name": "python3"
  },
  "language_info": {
   "codemirror_mode": {
    "name": "ipython",
    "version": 3
   },
   "file_extension": ".py",
   "mimetype": "text/x-python",
   "name": "python",
   "nbconvert_exporter": "python",
   "pygments_lexer": "ipython3",
   "version": "3.12.5"
  },
  "latex_envs": {
   "LaTeX_envs_menu_present": true,
   "autoclose": false,
   "autocomplete": true,
   "bibliofile": "biblio.bib",
   "cite_by": "apalike",
   "current_citInitial": 1,
   "eqLabelWithNumbers": true,
   "eqNumInitial": 1,
   "hotkeys": {
    "equation": "Ctrl-E",
    "itemize": "Ctrl-I"
   },
   "labels_anchors": false,
   "latex_user_defs": false,
   "report_style_numbering": false,
   "user_envs_cfg": false
  },
  "toc": {
   "base_numbering": 1,
   "nav_menu": {},
   "number_sections": true,
   "sideBar": true,
   "skip_h1_title": false,
   "title_cell": "Table of Contents",
   "title_sidebar": "Contents",
   "toc_cell": false,
   "toc_position": {},
   "toc_section_display": true,
   "toc_window_display": false
  }
 },
 "nbformat": 4,
 "nbformat_minor": 4
}
